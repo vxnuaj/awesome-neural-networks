{
 "cells": [
  {
   "cell_type": "code",
   "execution_count": 1,
   "metadata": {},
   "outputs": [
    {
     "ename": "ModuleNotFoundError",
     "evalue": "No module named 'numpy'",
     "output_type": "error",
     "traceback": [
      "\u001b[0;31m---------------------------------------------------------------------------\u001b[0m",
      "\u001b[0;31mModuleNotFoundError\u001b[0m                       Traceback (most recent call last)",
      "Cell \u001b[0;32mIn[1], line 1\u001b[0m\n\u001b[0;32m----> 1\u001b[0m \u001b[38;5;28;01mimport\u001b[39;00m \u001b[38;5;21;01mnumpy\u001b[39;00m \u001b[38;5;28;01mas\u001b[39;00m \u001b[38;5;21;01mnp\u001b[39;00m\n\u001b[1;32m      3\u001b[0m rng \u001b[38;5;241m=\u001b[39m np\u001b[38;5;241m.\u001b[39mrandom\u001b[38;5;241m.\u001b[39mdefault_rng(seed \u001b[38;5;241m=\u001b[39m \u001b[38;5;241m1\u001b[39m)\n\u001b[1;32m      5\u001b[0m z \u001b[38;5;241m=\u001b[39m rng\u001b[38;5;241m.\u001b[39mnormal(size \u001b[38;5;241m=\u001b[39m (\u001b[38;5;241m3\u001b[39m,\u001b[38;5;241m3\u001b[39m))\n",
      "\u001b[0;31mModuleNotFoundError\u001b[0m: No module named 'numpy'"
     ]
    }
   ],
   "source": [
    "import numpy as np\n",
    "\n",
    "rng = np.random.default_rng(seed = 1)\n",
    "\n",
    "z = rng.normal(size = (3,3))\n",
    "\n",
    "print(f'Z Shape: {z.shape}\\n')\n",
    "print(f\"Z: \\n \\n {z}\")"
   ]
  },
  {
   "cell_type": "markdown",
   "metadata": {},
   "source": [
    "### Sigmoid\n",
    "\n",
    "[Reference](README.md#σ)"
   ]
  },
  {
   "cell_type": "code",
   "execution_count": null,
   "metadata": {},
   "outputs": [
    {
     "name": "stdout",
     "output_type": "stream",
     "text": [
      "σ shape: (3, 3)\n",
      "σ: \n",
      " \n",
      " [[0.58554635 0.69457972 0.58186572]\n",
      " [0.21363414 0.71204889 0.60977691]\n",
      " [0.36889662 0.64132464 0.59014683]]\n"
     ]
    }
   ],
   "source": [
    "σ = 1 / (1 + np.exp(-z))\n",
    "\n",
    "print(f'σ shape: {σ.shape}')\n",
    "print(f\"σ: \\n \\n {σ}\")"
   ]
  },
  {
   "cell_type": "markdown",
   "metadata": {},
   "source": [
    "### Softmax\n",
    "\n",
    "[Reference](README.md/#softmax)"
   ]
  },
  {
   "cell_type": "code",
   "execution_count": null,
   "metadata": {},
   "outputs": [
    {
     "name": "stdout",
     "output_type": "stream",
     "text": [
      "A shape: (3, 3)\n",
      "A: \n",
      " \n",
      " [[0.62265588 0.34799818 0.31669118]\n",
      " [0.1197316  0.37839361 0.35562066]\n",
      " [0.25761252 0.27360821 0.32768816]]\n"
     ]
    }
   ],
   "source": [
    "# Assuming axis 0 is the axis containing the number of classes\n",
    "\n",
    "a = np.exp(z) / (np.sum(np.exp(z), axis = 0, keepdims=True))\n",
    "\n",
    "print(f\"A shape: {a.shape}\")\n",
    "print(f\"A: \\n \\n {a}\")"
   ]
  },
  {
   "cell_type": "markdown",
   "metadata": {},
   "source": [
    "### TanH\n",
    "\n",
    "[Reference](README.md#TanH)"
   ]
  },
  {
   "cell_type": "code",
   "execution_count": null,
   "metadata": {},
   "outputs": [
    {
     "name": "stdout",
     "output_type": "stream",
     "text": [
      "A shape: (3, 3)\n",
      "A: \n",
      " \n",
      " [[ 0.33245358  0.67594964  0.31891345]\n",
      " [-0.86253373  0.71889574  0.41891435]\n",
      " [-0.49067822  0.52347762  0.34923515]]\n"
     ]
    }
   ],
   "source": [
    "a = (np.exp(z) - np.exp(-z)) / (np.exp(z) + np.exp(-z))\n",
    "\n",
    "print(f\"A shape: {a.shape}\")\n",
    "print(f\"A: \\n \\n {a}\")"
   ]
  },
  {
   "cell_type": "markdown",
   "metadata": {},
   "source": [
    "### ReLU\n",
    "\n",
    "[Reference](README.md#ReLU)"
   ]
  },
  {
   "cell_type": "code",
   "execution_count": null,
   "metadata": {},
   "outputs": [
    {
     "name": "stdout",
     "output_type": "stream",
     "text": [
      "A shape: (3, 3)\n",
      "A: \n",
      " \n",
      " [[0.34558419 0.82161814 0.33043708]\n",
      " [0.         0.90535587 0.44637457]\n",
      " [0.         0.5811181  0.3645724 ]]\n"
     ]
    }
   ],
   "source": [
    "a = np.maximum(z, 0)\n",
    "\n",
    "print(f\"A shape: {a.shape}\")\n",
    "print(f\"A: \\n \\n {a}\")"
   ]
  },
  {
   "cell_type": "markdown",
   "metadata": {},
   "source": [
    "### Leaky ReLU\n",
    "\n",
    "[Reference](README.md#Leaky-ReLU)"
   ]
  },
  {
   "cell_type": "code",
   "execution_count": null,
   "metadata": {},
   "outputs": [
    {
     "name": "stdout",
     "output_type": "stream",
     "text": [
      "A shape: (3, 3)\n",
      "A: \n",
      " \n",
      " [[ 0.34558419  0.82161814  0.33043708]\n",
      " [-0.01303157  0.90535587  0.44637457]\n",
      " [-0.00536953  0.5811181   0.3645724 ]]\n"
     ]
    }
   ],
   "source": [
    "a = np.where(z > 0, z, .01 * z)\n",
    "\n",
    "print(f\"A shape: {a.shape}\")\n",
    "print(f\"A: \\n \\n {a}\")"
   ]
  }
 ],
 "metadata": {
  "kernelspec": {
   "display_name": "base",
   "language": "python",
   "name": "python3"
  },
  "language_info": {
   "codemirror_mode": {
    "name": "ipython",
    "version": 3
   },
   "file_extension": ".py",
   "mimetype": "text/x-python",
   "name": "python",
   "nbconvert_exporter": "python",
   "pygments_lexer": "ipython3",
   "version": "3.12.2"
  }
 },
 "nbformat": 4,
 "nbformat_minor": 2
}
